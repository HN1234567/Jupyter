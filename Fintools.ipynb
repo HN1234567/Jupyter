{
 "cells": [
  {
   "cell_type": "code",
   "execution_count": 163,
   "id": "1cc969ff-c968-4f59-b98b-162bbf62c8b8",
   "metadata": {},
   "outputs": [
    {
     "name": "stdout",
     "output_type": "stream",
     "text": [
      "[*********************100%***********************]  1 of 1 completed\n",
      "[*********************100%***********************]  1 of 1 completed\n",
      "                 Close\n",
      "Basic_Date            \n",
      "1993-01-29   43.937500\n",
      "1993-02-01   44.250000\n",
      "1993-02-02   44.343750\n",
      "1993-02-03   44.812500\n",
      "1993-02-04   45.000000\n",
      "...                ...\n",
      "2023-08-09  445.750000\n",
      "2023-08-10  445.910004\n",
      "2023-08-11  445.649994\n",
      "2023-08-14  448.109985\n",
      "2023-08-15  443.994995\n",
      "\n",
      "[7691 rows x 1 columns]\n"
     ]
    }
   ],
   "source": [
    "from datetime import datetime\n",
    "import re\n",
    "import numpy as np\n",
    "import pandas as pd\n",
    "import matplotlib as mpl\n",
    "import yfinance as yf\n",
    "\n",
    "aapl = yf.Ticker(\"AAPL\")\n",
    "msft = yf.Ticker(\"MSFT\")\n",
    "spy = yf.download(\"SPY\")\n",
    "btc = yf.download(\"BTC-USD\")\n",
    "\n",
    "data = pd.DataFrame(btc['Close'])\n",
    "data['Basic_Date'] = data.index.values\n",
    "data['Basic_Date'] = data['Basic_Date'].dt.date\n",
    "data.set_index(\"Basic_Date\", inplace=True)\n",
    "\n",
    "tempdata = pd.DataFrame(spy['Close'])\n",
    "tempdata['Basic_Date'] = tempdata.index.values\n",
    "tempdata['Basic_Date'] = tempdata['Basic_Date'].dt.date\n",
    "tempdata.set_index(\"Basic_Date\", inplace=True)\n",
    "\n",
    "print(tempdata)\n"
   ]
  },
  {
   "cell_type": "code",
   "execution_count": 180,
   "id": "5524a7ac-3d70-4476-bb0a-798990144a7c",
   "metadata": {},
   "outputs": [],
   "source": [
    "newdata = pd.DataFrame\n",
    "newdata = pd.merge(data, tempdata, how='outer', on='Basic_Date')\n",
    "newdata = newdata.sort_values('Basic_Date')\n",
    "\n",
    "newdata.to_csv('/Users/nickhickman/Downloads/BTCSPY.csv')"
   ]
  },
  {
   "cell_type": "code",
   "execution_count": 15,
   "id": "5756db4f-a124-442b-a285-244e0baf71c4",
   "metadata": {},
   "outputs": [
    {
     "name": "stdout",
     "output_type": "stream",
     "text": [
      "aapl    0.5\n",
      "msft    0.5\n",
      "dtype: float64\n"
     ]
    }
   ],
   "source": [
    "from datetime import datetime\n",
    "import numpy as np\n",
    "import pandas as pd\n",
    "import matplotlib as mpl\n",
    "import yfinance as yf\n",
    "\n",
    "\n",
    "class Portfolio:\n",
    "    def __init__(self, name, positions, value = 1):\n",
    "        self.name = name\n",
    "        self.positions = positions\n",
    "        self.value = value\n",
    "  \n",
    "positions = {'aapl': .5, 'msft':.5}\n",
    "positions = pd.Series(positions)\n",
    "\n",
    "test = Portfolio(\"Test\", positions)\n",
    "\n",
    "print(test.positions)"
   ]
  }
 ],
 "metadata": {
  "kernelspec": {
   "display_name": "Python 3 (ipykernel)",
   "language": "python",
   "name": "python3"
  },
  "language_info": {
   "codemirror_mode": {
    "name": "ipython",
    "version": 3
   },
   "file_extension": ".py",
   "mimetype": "text/x-python",
   "name": "python",
   "nbconvert_exporter": "python",
   "pygments_lexer": "ipython3",
   "version": "3.9.16"
  }
 },
 "nbformat": 4,
 "nbformat_minor": 5
}
